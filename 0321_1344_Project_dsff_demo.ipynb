{
  "nbformat": 4,
  "nbformat_minor": 0,
  "metadata": {
    "colab": {
      "provenance": [],
      "authorship_tag": "ABX9TyN8R6gUvJF7xip0ZDHBp7CV",
      "include_colab_link": true
    },
    "kernelspec": {
      "name": "python3",
      "display_name": "Python 3"
    },
    "language_info": {
      "name": "python"
    }
  },
  "cells": [
    {
      "cell_type": "markdown",
      "metadata": {
        "id": "view-in-github",
        "colab_type": "text"
      },
      "source": [
        "<a href=\"https://colab.research.google.com/github/quantwav/Project-dsff/blob/main/0321_1344_Project_dsff_demo.ipynb\" target=\"_parent\"><img src=\"https://colab.research.google.com/assets/colab-badge.svg\" alt=\"Open In Colab\"/></a>"
      ]
    },
    {
      "cell_type": "markdown",
      "source": [
        "# **Notebook setup**"
      ],
      "metadata": {
        "id": "ABQqbp9twMPV"
      }
    },
    {
      "cell_type": "code",
      "source": [
        "%matplotlib inline\n",
        "# Use %matplotlib ipympl or %matplotlib widget if you want interactive matplotlib plots\n",
        "#%matplotlib widget\n",
        "\n",
        "# reloads modules automatically before entering the execution of code typed at the IPython prompt\n",
        "%load_ext autoreload\n",
        "%autoreload 2"
      ],
      "metadata": {
        "id": "4PnLJ4jv9xcN"
      },
      "execution_count": 1,
      "outputs": []
    },
    {
      "cell_type": "code",
      "source": [
        "# Package Imports\n",
        "!pip install linearmodels\n",
        "import linearmodels as lm  #for panel data econometrics\n",
        "import matplotlib.pyplot as plt\n",
        "import matplotlib.ticker as mtick\n",
        "import numpy as np\n",
        "import pandas as pd\n",
        "import seaborn as sns\n",
        "import statsmodels.api as sm\n",
        "import statsmodels.formula.api as smf\n",
        "import sys\n",
        "import time\n",
        "import os\n",
        "\n",
        "# To display dataframes as interactive tables in the notebook:\n",
        "!pip install itables\n",
        "from itables import init_notebook_mode\n",
        "init_notebook_mode(all_interactive=True)\n",
        "\n",
        "# Add current directory to access common code in dp.py\n",
        "#sys.path.insert(0, '/Users/mrrobert/Dropbox/mrrobert/Data')\n",
        "#sys.path.insert(0, '.')\n",
        "\n",
        "#import data_paths as dp\n",
        "\n",
        "# Tolerance for tests\n",
        "TOL = 1.0e-8"
      ],
      "metadata": {
        "id": "aL8pfmrv9zYp"
      },
      "execution_count": null,
      "outputs": []
    },
    {
      "cell_type": "code",
      "source": [
        "from shapely.geometry import  Point\n",
        "import geopandas as gpd\n",
        "from sklearn.impute import SimpleImputer\n",
        "from sklearn.preprocessing import LabelEncoder\n",
        "from sklearn.model_selection import train_test_split\n",
        "import seaborn as sns\n",
        "from matplotlib import cm\n",
        "import urllib.request\n",
        "import shutil\n",
        "import zipfile\n",
        "import re\n",
        "\n",
        "!pip install contextily\n",
        "import contextily as ctx\n",
        "\n",
        "!pip install geoplot\n",
        "import geoplot as gplt\n",
        "import lightgbm as lgb"
      ],
      "metadata": {
        "id": "w_gDj8V4DgsI"
      },
      "execution_count": null,
      "outputs": []
    },
    {
      "cell_type": "code",
      "source": [
        "!pip install eli5\n",
        "import eli5\n",
        "from eli5.sklearn import PermutationImportance\n",
        "from lightgbm import LGBMClassifier\n",
        "from matplotlib import pyplot as plt\n",
        "\n",
        "!pip install pdpbox\n",
        "from pdpbox import pdp, info_plots   # get_dataset\n",
        "\n",
        "!pip install shap\n",
        "import shap"
      ],
      "metadata": {
        "id": "jU_HbWu9ESf1"
      },
      "execution_count": null,
      "outputs": []
    },
    {
      "cell_type": "code",
      "source": [
        "if not os.path.exists(\"crime_data_2023demo.csv\"):\n",
        "    !gdown 1ngS7TgJyoAJ4LrvmHTMZ9F01ml8YWWjS"
      ],
      "metadata": {
        "id": "H3Qur2xmIiYO",
        "outputId": "35e82efb-050b-43c7-c672-cbc39e834241",
        "colab": {
          "base_uri": "https://localhost:8080/"
        }
      },
      "execution_count": 3,
      "outputs": [
        {
          "output_type": "stream",
          "name": "stdout",
          "text": [
            "Downloading...\n",
            "From: https://drive.google.com/uc?id=1ngS7TgJyoAJ4LrvmHTMZ9F01ml8YWWjS\n",
            "To: /content/crime_data_2023demo.csv\n",
            "\r  0% 0.00/3.84M [00:00<?, ?B/s]\r100% 3.84M/3.84M [00:00<00:00, 166MB/s]\n"
          ]
        }
      ]
    },
    {
      "cell_type": "code",
      "source": [
        "train = (\n",
        "    pd.read_csv('crime_data_2023demo.csv', parse_dates=['dispatch_date'])\n",
        ")\n",
        "\n",
        "# test = (\n",
        "#     pd.read_csv()\n",
        "# )\n",
        "\n"
      ],
      "metadata": {
        "id": "g8_du-8tz8WE"
      },
      "execution_count": 18,
      "outputs": []
    },
    {
      "cell_type": "code",
      "source": [
        "print('First date:', str(train.dispatch_date.describe()['first']))\n",
        "print('Last date: ', str(train.dispatch_date.describe()['last']))\n",
        "print('Test data shape ', train.shape)"
      ],
      "metadata": {
        "id": "gOwxZinlGf2r",
        "outputId": "7d59e65a-d7c5-432f-8bb6-9a6d4cc02269",
        "colab": {
          "base_uri": "https://localhost:8080/"
        }
      },
      "execution_count": 20,
      "outputs": [
        {
          "output_type": "stream",
          "name": "stdout",
          "text": [
            "First date: 2022-12-31 00:00:00\n",
            "Last date:  2023-01-04 00:00:00\n",
            "Test data shape  (169017, 19)\n"
          ]
        }
      ]
    },
    {
      "cell_type": "code",
      "source": [],
      "metadata": {
        "id": "f7KBbQAikO8K"
      },
      "execution_count": 4,
      "outputs": []
    }
  ]
}